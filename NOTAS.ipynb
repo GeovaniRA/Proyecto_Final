{
  "nbformat": 4,
  "nbformat_minor": 0,
  "metadata": {
    "colab": {
      "provenance": []
    },
    "kernelspec": {
      "name": "python3",
      "display_name": "Python 3"
    },
    "language_info": {
      "name": "python"
    }
  },
  "cells": [
    {
      "cell_type": "markdown",
      "metadata": {
        "id": "kFLpBmWtIrPw"
      },
      "source": [
        "# Operaciones listas"
      ]
    },
    {
      "cell_type": "code",
      "metadata": {
        "colab": {
          "base_uri": "https://localhost:8080/"
        },
        "id": "WyX8sYdEHh-4",
        "outputId": "d0215c36-e12e-4c3e-cb90-1a457c978269"
      },
      "source": [
        "semestre_1 = [3274,1325,2254,533,6954,7784]\n",
        "semestre_2 = [8414,7784,425,165,7784,555]\n",
        "producots_exportacion = ['Computadoras','Tablets','Teclados','Smart Watch']\n",
        "\n",
        "totales = semestre_1 + semestre_2\n",
        "print(totales)\n",
        "\n",
        "print([3274,1325,2254,533,6954,7784] + [8414,7784,425,165,7784,555])"
      ],
      "execution_count": null,
      "outputs": [
        {
          "output_type": "stream",
          "name": "stdout",
          "text": [
            "[3274, 1325, 2254, 533, 6954, 7784, 8414, 7784, 425, 165, 7784, 555]\n",
            "[3274, 1325, 2254, 533, 6954, 7784, 8414, 7784, 425, 165, 7784, 555]\n"
          ]
        }
      ]
    },
    {
      "cell_type": "code",
      "metadata": {
        "colab": {
          "base_uri": "https://localhost:8080/"
        },
        "id": "GGfcPzzyJbyI",
        "outputId": "35128112-3335-4328-fbf4-8445d1cce4ed"
      },
      "source": [
        "print(totales*3)"
      ],
      "execution_count": null,
      "outputs": [
        {
          "output_type": "stream",
          "name": "stdout",
          "text": [
            "[3274, 1325, 2254, 533, 6954, 7784, 8414, 7784, 425, 165, 7784, 555, 3274, 1325, 2254, 533, 6954, 7784, 8414, 7784, 425, 165, 7784, 555, 3274, 1325, 2254, 533, 6954, 7784, 8414, 7784, 425, 165, 7784, 555]\n"
          ]
        }
      ]
    },
    {
      "cell_type": "code",
      "metadata": {
        "colab": {
          "base_uri": "https://localhost:8080/"
        },
        "id": "OBnQEUJgJoSn",
        "outputId": "c815deb5-4cc3-4c95-dc30-e2c0048cc7d3"
      },
      "source": [
        "totales[-1] = 6555\n",
        "print(totales)"
      ],
      "execution_count": null,
      "outputs": [
        {
          "output_type": "stream",
          "name": "stdout",
          "text": [
            "[3274, 1325, 2254, 533, 6954, 7784, 8414, 7784, 425, 165, 7784, 6555]\n"
          ]
        }
      ]
    },
    {
      "cell_type": "code",
      "metadata": {
        "colab": {
          "base_uri": "https://localhost:8080/"
        },
        "id": "wHrXLFfsKJcA",
        "outputId": "b9a0d07e-2fd0-4c58-91f9-85ac6ab9f60d"
      },
      "source": [
        "totales[9]=2165\n",
        "print(totales)"
      ],
      "execution_count": null,
      "outputs": [
        {
          "output_type": "stream",
          "name": "stdout",
          "text": [
            "[3274, 1325, 2254, 533, 6954, 7784, 8414, 7784, 425, 2165, 7784, 6555]\n"
          ]
        }
      ]
    },
    {
      "cell_type": "code",
      "metadata": {
        "id": "bFi-oXv4KR32"
      },
      "source": [
        "# Metodos"
      ],
      "execution_count": null,
      "outputs": []
    },
    {
      "cell_type": "code",
      "metadata": {
        "id": "kfOVO0ZAKTbW",
        "colab": {
          "base_uri": "https://localhost:8080/"
        },
        "outputId": "690ed913-9da1-4c2c-a3ae-9973af22ef52"
      },
      "source": [
        "#Contar elementos dentro de la lista\n",
        "totales.count(7784)"
      ],
      "execution_count": null,
      "outputs": [
        {
          "output_type": "execute_result",
          "data": {
            "text/plain": [
              "3"
            ]
          },
          "metadata": {},
          "execution_count": 6
        }
      ]
    },
    {
      "cell_type": "code",
      "metadata": {
        "id": "UTjPB-nnujnX"
      },
      "source": [
        "#Alternativa apppend, pero este inserta en el indice que gustes\n",
        "producots_exportacion.insert(2, 'Audifonos')"
      ],
      "execution_count": null,
      "outputs": []
    },
    {
      "cell_type": "code",
      "metadata": {
        "colab": {
          "base_uri": "https://localhost:8080/"
        },
        "id": "OCxi_LF0u5pk",
        "outputId": "f53dda9c-0b9a-4499-98f0-832b0700bc3e"
      },
      "source": [
        "producots_exportacion"
      ],
      "execution_count": null,
      "outputs": [
        {
          "output_type": "execute_result",
          "data": {
            "text/plain": [
              "['Computadoras', 'Tablets', 'Audifonos', 'Teclados', 'Smart Watch']"
            ]
          },
          "metadata": {},
          "execution_count": 9
        }
      ]
    },
    {
      "cell_type": "code",
      "metadata": {
        "colab": {
          "base_uri": "https://localhost:8080/"
        },
        "id": "SVRy2Hkzu_Pt",
        "outputId": "7fea0cd0-37fd-45cc-902c-fa2de0b59fcb"
      },
      "source": [
        "producots_exportacion.insert(1, 'Computadoras')\n",
        "producots_exportacion"
      ],
      "execution_count": null,
      "outputs": [
        {
          "output_type": "execute_result",
          "data": {
            "text/plain": [
              "['Computadoras',\n",
              " 'Computadoras',\n",
              " 'Tablets',\n",
              " 'Audifonos',\n",
              " 'Teclados',\n",
              " 'Smart Watch']"
            ]
          },
          "metadata": {},
          "execution_count": 10
        }
      ]
    },
    {
      "cell_type": "code",
      "metadata": {
        "colab": {
          "base_uri": "https://localhost:8080/"
        },
        "id": "HemmTNdkvOra",
        "outputId": "c05f0977-2883-4828-990b-b57ff03b5d2f"
      },
      "source": [
        "# Eliminar elemento dado el indice\n",
        "producots_exportacion.pop(1)\n",
        "print(producots_exportacion)"
      ],
      "execution_count": null,
      "outputs": [
        {
          "output_type": "stream",
          "name": "stdout",
          "text": [
            "['Computadoras', 'Tablets', 'Audifonos', 'Teclados', 'Smart Watch']\n"
          ]
        }
      ]
    },
    {
      "cell_type": "code",
      "metadata": {
        "colab": {
          "base_uri": "https://localhost:8080/"
        },
        "id": "_wbr0pBQvgAH",
        "outputId": "6e46ac4b-be8a-4809-a007-178256b3fc3a"
      },
      "source": [
        "# Eliminar elemento dado nombre\n",
        "producots_exportacion.remove('Computadoras')\n",
        "producots_exportacion"
      ],
      "execution_count": null,
      "outputs": [
        {
          "output_type": "execute_result",
          "data": {
            "text/plain": [
              "['Tablets', 'Audifonos', 'Teclados', 'Smart Watch']"
            ]
          },
          "metadata": {},
          "execution_count": 12
        }
      ]
    },
    {
      "cell_type": "code",
      "metadata": {
        "colab": {
          "base_uri": "https://localhost:8080/"
        },
        "id": "EbHJS5bVvqMk",
        "outputId": "1c644162-a5be-4b0f-afdb-4129f67f2bbc"
      },
      "source": [
        "#Sort, ordenamineto\n",
        "\n",
        "totales.sort()\n",
        "print(totales)"
      ],
      "execution_count": null,
      "outputs": [
        {
          "output_type": "stream",
          "name": "stdout",
          "text": [
            "[425, 533, 1325, 2165, 2254, 3274, 6555, 6954, 7784, 7784, 7784, 8414]\n"
          ]
        }
      ]
    },
    {
      "cell_type": "code",
      "metadata": {
        "colab": {
          "base_uri": "https://localhost:8080/"
        },
        "id": "lw2bNwG-v_NE",
        "outputId": "41faf301-3fb2-4258-f3cd-2ead1068004e"
      },
      "source": [
        "producots_exportacion.sort()\n",
        "print(producots_exportacion)"
      ],
      "execution_count": null,
      "outputs": [
        {
          "output_type": "stream",
          "name": "stdout",
          "text": [
            "['Audifonos', 'Smart Watch', 'Tablets', 'Teclados']\n"
          ]
        }
      ]
    },
    {
      "cell_type": "code",
      "metadata": {
        "colab": {
          "base_uri": "https://localhost:8080/"
        },
        "id": "sKGwsHEXwIm9",
        "outputId": "58ba37c7-dcf4-4b0d-abaa-6a372e401d38"
      },
      "source": [
        "#Unicamente voltea la lista\n",
        "totales.reverse()\n",
        "totales"
      ],
      "execution_count": null,
      "outputs": [
        {
          "output_type": "execute_result",
          "data": {
            "text/plain": [
              "[8414, 7784, 7784, 7784, 6954, 6555, 3274, 2254, 2165, 1325, 533, 425]"
            ]
          },
          "metadata": {},
          "execution_count": 16
        }
      ]
    },
    {
      "cell_type": "code",
      "metadata": {
        "colab": {
          "base_uri": "https://localhost:8080/"
        },
        "id": "5-bbJPE-wRyy",
        "outputId": "22cc5cf4-12fa-4d8b-bb2a-57b85979dadb"
      },
      "source": [
        "# ordenamiento de mayor a menor\n",
        "producots_exportacion.sort(reverse=True)\n",
        "producots_exportacion"
      ],
      "execution_count": null,
      "outputs": [
        {
          "output_type": "execute_result",
          "data": {
            "text/plain": [
              "['Teclados', 'Tablets', 'Smart Watch', 'Audifonos']"
            ]
          },
          "metadata": {},
          "execution_count": 18
        }
      ]
    },
    {
      "cell_type": "code",
      "metadata": {
        "colab": {
          "base_uri": "https://localhost:8080/"
        },
        "id": "8kLTK9oAwlDF",
        "outputId": "9a0e1ec1-eb7f-43f0-b590-67883056574d"
      },
      "source": [
        "totales.sort(reverse=True)\n",
        "totales"
      ],
      "execution_count": null,
      "outputs": [
        {
          "output_type": "execute_result",
          "data": {
            "text/plain": [
              "[8414, 7784, 7784, 7784, 6954, 6555, 3274, 2254, 2165, 1325, 533, 425]"
            ]
          },
          "metadata": {},
          "execution_count": 22
        }
      ]
    },
    {
      "cell_type": "markdown",
      "metadata": {
        "id": "Iw_EHiTMxgYE"
      },
      "source": [
        "# Operaciones con tuplas: Coleccion de objetos ordenados e inmutables"
      ]
    },
    {
      "cell_type": "code",
      "metadata": {
        "colab": {
          "base_uri": "https://localhost:8080/"
        },
        "id": "YxOxgtEjws1t",
        "outputId": "3d1f5f56-2bac-4949-9618-0a78e20466fa"
      },
      "source": [
        "semestre_1 = (3274, 1325, 2254, 533, 6954, 7784)\n",
        "semestre_1"
      ],
      "execution_count": null,
      "outputs": [
        {
          "output_type": "execute_result",
          "data": {
            "text/plain": [
              "(3274, 1325, 2254, 533, 6954, 7784)"
            ]
          },
          "metadata": {},
          "execution_count": 33
        }
      ]
    },
    {
      "cell_type": "code",
      "metadata": {
        "colab": {
          "base_uri": "https://localhost:8080/"
        },
        "id": "X6r65WC2yUD8",
        "outputId": "7f9a08c1-241b-4ce5-8655-f5b3883c8615"
      },
      "source": [
        "es_tupla = ('Emtech',)\n",
        "print(es_tupla)"
      ],
      "execution_count": null,
      "outputs": [
        {
          "output_type": "stream",
          "name": "stdout",
          "text": [
            "('Emtech',)\n"
          ]
        }
      ]
    },
    {
      "cell_type": "code",
      "metadata": {
        "colab": {
          "base_uri": "https://localhost:8080/"
        },
        "id": "N3GBUIdTynW9",
        "outputId": "5c2fe24d-cbc2-4c81-9071-9faf1ac7006b"
      },
      "source": [
        "#Tupla vacia\n",
        "tupla_vacia = tuple()\n",
        "\n",
        "enero = ('Computadora', 1850)\n",
        "print('Productos: ', enero[0])\n",
        "print('Total exportaciones: ', enero[1])"
      ],
      "execution_count": null,
      "outputs": [
        {
          "output_type": "stream",
          "name": "stdout",
          "text": [
            "Productos:  Computadora\n",
            "Total exportaciones:  1850\n"
          ]
        }
      ]
    },
    {
      "cell_type": "code",
      "metadata": {
        "colab": {
          "base_uri": "https://localhost:8080/"
        },
        "id": "RO7cRZbJzKqo",
        "outputId": "e814c8cd-ebd4-4b7a-e9d9-ac367853a82f"
      },
      "source": [
        "print(semestre_1)\n",
        "semestre_1 = semestre_1 + (860,230)\n",
        "print(semestre_1)\n",
        "\n",
        "#sort y append aqui no es valido"
      ],
      "execution_count": null,
      "outputs": [
        {
          "output_type": "stream",
          "name": "stdout",
          "text": [
            "(3274, 1325, 2254, 533, 6954, 7784)\n",
            "(3274, 1325, 2254, 533, 6954, 7784, 860, 230)\n"
          ]
        }
      ]
    },
    {
      "cell_type": "code",
      "metadata": {
        "colab": {
          "base_uri": "https://localhost:8080/"
        },
        "id": "mDoJvKt0zccb",
        "outputId": "093c70fb-db8a-4c83-9f85-9b2a0c8dfb30"
      },
      "source": [
        "#Si tiene metodo count\n",
        "semestre_1.count(230)"
      ],
      "execution_count": null,
      "outputs": [
        {
          "output_type": "execute_result",
          "data": {
            "text/plain": [
              "1"
            ]
          },
          "metadata": {},
          "execution_count": 39
        }
      ]
    },
    {
      "cell_type": "markdown",
      "metadata": {
        "id": "yxFQAPBh1Qgc"
      },
      "source": [
        "# Conjutos: estos no tienen orden ni duplicados"
      ]
    },
    {
      "cell_type": "code",
      "metadata": {
        "colab": {
          "base_uri": "https://localhost:8080/"
        },
        "id": "GL6fgKk20NVh",
        "outputId": "913f1ef9-4be2-4dea-9933-443397a2023d"
      },
      "source": [
        "paises = ['Mexico','Honduras','Brasil', 'Honduras', 'Jamaica', 'Mexico',\n",
        "          'Colombia', 'Nicaragua', 'Panama', 'Paraguay','Brasil',\n",
        "          'Argentina', 'Mexico','Brasil', 'Chile', 'Colombia',\n",
        "          'Panama', 'Peru', 'Argentina', 'Uruguay']\n",
        "\n",
        "print(len(paises))"
      ],
      "execution_count": null,
      "outputs": [
        {
          "output_type": "stream",
          "name": "stdout",
          "text": [
            "20\n"
          ]
        }
      ]
    },
    {
      "cell_type": "code",
      "metadata": {
        "colab": {
          "base_uri": "https://localhost:8080/"
        },
        "id": "K5HWcpXD2YRu",
        "outputId": "ba6590a8-bc56-4f2f-d59a-6520df412939"
      },
      "source": [
        "# Funcion set\n",
        "conjunto_paises = set(paises)\n",
        "print(conjunto_paises)"
      ],
      "execution_count": null,
      "outputs": [
        {
          "output_type": "stream",
          "name": "stdout",
          "text": [
            "{'Colombia', 'Brasil', 'Jamaica', 'Paraguay', 'Honduras', 'Mexico', 'Panama', 'Nicaragua', 'Peru', 'Argentina', 'Uruguay', 'Chile'}\n"
          ]
        }
      ]
    },
    {
      "cell_type": "code",
      "metadata": {
        "colab": {
          "base_uri": "https://localhost:8080/"
        },
        "id": "EgrtcbeK3Bb2",
        "outputId": "dc67b699-b989-401f-b671-88a9cd18e8fe"
      },
      "source": [
        "print(len(conjunto_paises))"
      ],
      "execution_count": null,
      "outputs": [
        {
          "output_type": "stream",
          "name": "stdout",
          "text": [
            "12\n"
          ]
        }
      ]
    },
    {
      "cell_type": "code",
      "metadata": {
        "colab": {
          "base_uri": "https://localhost:8080/"
        },
        "id": "0hEhEzzV3FCf",
        "outputId": "25629888-539c-42cb-cbd5-bd10fee53ec7"
      },
      "source": [
        "conjunto_exportaciones = {874,4829,3402,324,420}\n",
        "print(conjunto_exportaciones)"
      ],
      "execution_count": null,
      "outputs": [
        {
          "output_type": "stream",
          "name": "stdout",
          "text": [
            "{420, 324, 874, 3402, 4829}\n"
          ]
        }
      ]
    },
    {
      "cell_type": "code",
      "metadata": {
        "colab": {
          "base_uri": "https://localhost:8080/"
        },
        "id": "q9mgBGlT3XA8",
        "outputId": "e75f1e49-bd5c-4209-a73a-10568be853c2"
      },
      "source": [
        "# funcion add y pop\n",
        "conjunto_paises.add('Ecuador')\n",
        "print(conjunto_paises)\n",
        "\n",
        "conjunto_paises.pop()\n",
        "print(conjunto_paises)\n",
        "\n",
        "#Elimina un elemento aleatorio"
      ],
      "execution_count": null,
      "outputs": [
        {
          "output_type": "stream",
          "name": "stdout",
          "text": [
            "{'Colombia', 'Brasil', 'Jamaica', 'Paraguay', 'Honduras', 'Mexico', 'Panama', 'Nicaragua', 'Ecuador', 'Peru', 'Argentina', 'Uruguay', 'Chile'}\n",
            "{'Brasil', 'Jamaica', 'Paraguay', 'Honduras', 'Mexico', 'Panama', 'Nicaragua', 'Ecuador', 'Peru', 'Argentina', 'Uruguay', 'Chile'}\n"
          ]
        }
      ]
    },
    {
      "cell_type": "code",
      "metadata": {
        "colab": {
          "base_uri": "https://localhost:8080/"
        },
        "id": "fDbdZU7U3-uf",
        "outputId": "f6fabf02-29a7-4e16-ba91-727676ce21db"
      },
      "source": [
        "#Eliminar elemnto particular\n",
        "print(conjunto_paises)\n",
        "conjunto_paises.remove('Honduras')\n",
        "print(conjunto_paises)"
      ],
      "execution_count": null,
      "outputs": [
        {
          "output_type": "stream",
          "name": "stdout",
          "text": [
            "{'Brasil', 'Jamaica', 'Paraguay', 'Honduras', 'Mexico', 'Panama', 'Nicaragua', 'Ecuador', 'Peru', 'Argentina', 'Uruguay', 'Chile'}\n",
            "{'Brasil', 'Jamaica', 'Paraguay', 'Mexico', 'Panama', 'Nicaragua', 'Ecuador', 'Peru', 'Argentina', 'Uruguay', 'Chile'}\n"
          ]
        }
      ]
    },
    {
      "cell_type": "code",
      "metadata": {
        "colab": {
          "base_uri": "https://localhost:8080/"
        },
        "id": "dag2G3G741Mh",
        "outputId": "a5fb263a-3e24-4220-a214-15b9789b2f54"
      },
      "source": [
        "top_paises = {'Mexico','Colombia', 'Argentina', 'Costa Rica'}\n",
        "\n",
        "diferencia = conjunto_paises.difference(top_paises)\n",
        "print(diferencia)"
      ],
      "execution_count": null,
      "outputs": [
        {
          "output_type": "stream",
          "name": "stdout",
          "text": [
            "{'Brasil', 'Jamaica', 'Paraguay', 'Panama', 'Nicaragua', 'Ecuador', 'Peru', 'Uruguay', 'Chile'}\n"
          ]
        }
      ]
    },
    {
      "cell_type": "code",
      "metadata": {
        "colab": {
          "base_uri": "https://localhost:8080/"
        },
        "id": "rwwHORQ75Ktj",
        "outputId": "1438ef22-ea6b-4ee7-818e-2c8202354503"
      },
      "source": [
        "interseccion = conjunto_paises.intersection(top_paises)\n",
        "print(interseccion)"
      ],
      "execution_count": null,
      "outputs": [
        {
          "output_type": "stream",
          "name": "stdout",
          "text": [
            "{'Mexico', 'Argentina'}\n"
          ]
        }
      ]
    },
    {
      "cell_type": "code",
      "metadata": {
        "colab": {
          "base_uri": "https://localhost:8080/"
        },
        "id": "V64L8dDJ5Vz6",
        "outputId": "f268d2b8-5270-4618-8fec-6206b0acc890"
      },
      "source": [
        "union = conjunto_paises.union(top_paises)\n",
        "print(union)"
      ],
      "execution_count": null,
      "outputs": [
        {
          "output_type": "stream",
          "name": "stdout",
          "text": [
            "{'Colombia', 'Brasil', 'Jamaica', 'Paraguay', 'Costa Rica', 'Mexico', 'Panama', 'Nicaragua', 'Ecuador', 'Peru', 'Argentina', 'Uruguay', 'Chile'}\n"
          ]
        }
      ]
    },
    {
      "cell_type": "markdown",
      "metadata": {
        "id": "WW4FYRzt6TKH"
      },
      "source": [
        "# Diccionarios"
      ]
    },
    {
      "cell_type": "code",
      "metadata": {
        "colab": {
          "base_uri": "https://localhost:8080/"
        },
        "id": "RXcjZX7S5cY-",
        "outputId": "acd56c3f-4f3e-4896-bca5-656b65cbc5d4"
      },
      "source": [
        "lista_exportaciones = [3274,1325,2254,534,6954,7784,8414,7784,425,165,7784,6555]\n",
        "\n",
        "exportaciones = {'Enero':lista_exportaciones[0],\n",
        "                 'Febrero':lista_exportaciones[1],\n",
        "                 'Marzo':lista_exportaciones[2],\n",
        "                 'Abril':lista_exportaciones[3],\n",
        "                 'Mayo':lista_exportaciones[4],\n",
        "                 'Junio':lista_exportaciones[5],\n",
        "                 'Julio':lista_exportaciones[6],\n",
        "                 'Agosto':lista_exportaciones[7],\n",
        "                 'Septiembre':lista_exportaciones[8],\n",
        "                 'Octubre':lista_exportaciones[9],\n",
        "                 'Noviembre':lista_exportaciones[10],\n",
        "                 }\n",
        "\n",
        "print(exportaciones)"
      ],
      "execution_count": null,
      "outputs": [
        {
          "output_type": "stream",
          "name": "stdout",
          "text": [
            "{'Enero': 3274, 'Febrero': 1325, 'Marzo': 2254, 'Abril': 534, 'Mayo': 6954, 'Junio': 7784, 'Julio': 8414, 'Agosto': 7784, 'Septiembre': 425, 'Octubre': 165, 'Noviembre': 7784}\n"
          ]
        }
      ]
    },
    {
      "cell_type": "code",
      "metadata": {
        "colab": {
          "base_uri": "https://localhost:8080/"
        },
        "id": "e5wjlU5YE7hV",
        "outputId": "2d6d18bb-488e-4e83-a4de-bf3127bb162a"
      },
      "source": [
        "print(exportaciones['Marzo'])"
      ],
      "execution_count": null,
      "outputs": [
        {
          "output_type": "stream",
          "name": "stdout",
          "text": [
            "2254\n"
          ]
        }
      ]
    },
    {
      "cell_type": "code",
      "metadata": {
        "colab": {
          "base_uri": "https://localhost:8080/"
        },
        "id": "c_qAcB-vE-k7",
        "outputId": "449edd45-9907-4165-ac99-3848ea0df16d"
      },
      "source": [
        "exportaciones['Diciembre'] = 6555\n",
        "print(exportaciones)"
      ],
      "execution_count": null,
      "outputs": [
        {
          "output_type": "stream",
          "name": "stdout",
          "text": [
            "{'Enero': 3274, 'Febrero': 1325, 'Marzo': 2254, 'Abril': 534, 'Mayo': 6954, 'Junio': 7784, 'Julio': 8414, 'Agosto': 7784, 'Septiembre': 425, 'Octubre': 165, 'Noviembre': 7784, 'Diciembre': 6555}\n"
          ]
        }
      ]
    },
    {
      "cell_type": "code",
      "metadata": {
        "colab": {
          "base_uri": "https://localhost:8080/"
        },
        "id": "ktyjGX5QFFwi",
        "outputId": "f8374d7c-0172-483d-b542-911602bbc2ab"
      },
      "source": [
        "#ELIMINAR \n",
        "del(exportaciones['Enero'])\n",
        "print(exportaciones)"
      ],
      "execution_count": null,
      "outputs": [
        {
          "output_type": "stream",
          "name": "stdout",
          "text": [
            "{'Febrero': 1325, 'Marzo': 2254, 'Abril': 534, 'Mayo': 6954, 'Junio': 7784, 'Julio': 8414, 'Agosto': 7784, 'Septiembre': 425, 'Octubre': 165, 'Noviembre': 7784, 'Diciembre': 6555}\n"
          ]
        }
      ]
    },
    {
      "cell_type": "code",
      "metadata": {
        "colab": {
          "base_uri": "https://localhost:8080/"
        },
        "id": "DiVLgBDbFR2X",
        "outputId": "871eaccd-48ad-49ab-e276-171ccb058f7a"
      },
      "source": [
        "exportaciones[2018] = [520,630,120]\n",
        "print(exportaciones)"
      ],
      "execution_count": null,
      "outputs": [
        {
          "output_type": "stream",
          "name": "stdout",
          "text": [
            "{'Febrero': 1325, 'Marzo': 2254, 'Abril': 534, 'Mayo': 6954, 'Junio': 7784, 'Julio': 8414, 'Agosto': 7784, 'Septiembre': 425, 'Octubre': 165, 'Noviembre': 7784, 'Diciembre': 6555, 2018: [520, 630, 120]}\n"
          ]
        }
      ]
    },
    {
      "cell_type": "code",
      "metadata": {
        "colab": {
          "base_uri": "https://localhost:8080/"
        },
        "id": "sIV9MnkiGMJe",
        "outputId": "70e4ff69-29e0-41e4-86ea-530a93bdab1f"
      },
      "source": [
        "exportaciones[2019] = {'Enero':520,\n",
        "                       'Febrero':630,\n",
        "                       'Marzo':120}\n",
        "print(exportaciones)"
      ],
      "execution_count": null,
      "outputs": [
        {
          "output_type": "stream",
          "name": "stdout",
          "text": [
            "{'Febrero': 1325, 'Marzo': 2254, 'Abril': 534, 'Mayo': 6954, 'Junio': 7784, 'Julio': 8414, 'Agosto': 7784, 'Septiembre': 425, 'Octubre': 165, 'Noviembre': 7784, 'Diciembre': 6555, 2018: [520, 630, 120], 2019: {'Enero': 520, 'Febrero': 630, 'Marzo': 120}}\n"
          ]
        }
      ]
    },
    {
      "cell_type": "code",
      "metadata": {
        "colab": {
          "base_uri": "https://localhost:8080/"
        },
        "id": "2V1DzuczHJTH",
        "outputId": "a17f41f0-3ae8-4c09-a115-4b461b70d7cd"
      },
      "source": [
        "print(exportaciones[2019])"
      ],
      "execution_count": null,
      "outputs": [
        {
          "output_type": "stream",
          "name": "stdout",
          "text": [
            "{'Enero': 520, 'Febrero': 630, 'Marzo': 120}\n"
          ]
        }
      ]
    },
    {
      "cell_type": "code",
      "metadata": {
        "colab": {
          "base_uri": "https://localhost:8080/"
        },
        "id": "dWybjOxvHUiS",
        "outputId": "f98b6377-4ca8-438b-d1f7-fbd7feb5bf6d"
      },
      "source": [
        "exp2019 = {'Enero': 3274, 'Febrero':1325 , 'Marzo': 2254}\n",
        "exp2018 = {'Enero': 210, 'Febrero': 610, 'Marzo': 120}\n",
        "exp2017 = {'Enero': 420, 'Febrero': 223, 'Marzo': 985}\n",
        "exp2016 = {'Enero': 590, 'Febrero': 3432, 'Marzo': 763}\n",
        "\n",
        "exportaciones = [{'Enero': 3274, 'Febrero':1325 , 'Marzo': 2254},\n",
        "                 {'Enero': 210, 'Febrero': 610, 'Marzo': 120},\n",
        "                 {'Enero': 420, 'Febrero': 223, 'Marzo': 985},\n",
        "                 {'Enero': 590, 'Febrero': 3432, 'Marzo': 763}]\n",
        "\n",
        "exportaciones = []\n",
        "\n",
        "exportaciones.append(exp2019)\n",
        "exportaciones.append(exp2018)\n",
        "exportaciones.append(exp2017)\n",
        "exportaciones.append(exp2016)\n",
        "\n",
        "print(exportaciones)"
      ],
      "execution_count": null,
      "outputs": [
        {
          "output_type": "stream",
          "name": "stdout",
          "text": [
            "[{'Enero': 3274, 'Febrero': 1325, 'Marzo': 2254}, {'Enero': 210, 'Febrero': 610, 'Marzo': 120}, {'Enero': 420, 'Febrero': 223, 'Marzo': 985}, {'Enero': 590, 'Febrero': 3432, 'Marzo': 763}]\n"
          ]
        }
      ]
    },
    {
      "cell_type": "code",
      "metadata": {
        "colab": {
          "base_uri": "https://localhost:8080/"
        },
        "id": "3Y8fdDofI8kq",
        "outputId": "9a5d1896-6c7e-4118-a055-9b9e2e33c9a9"
      },
      "source": [
        "print(exportaciones[0])\n",
        "print(exportaciones[1]['Marzo'])"
      ],
      "execution_count": null,
      "outputs": [
        {
          "output_type": "stream",
          "name": "stdout",
          "text": [
            "{'Enero': 3274, 'Febrero': 1325, 'Marzo': 2254}\n",
            "120\n"
          ]
        }
      ]
    },
    {
      "cell_type": "code",
      "metadata": {
        "colab": {
          "base_uri": "https://localhost:8080/"
        },
        "id": "3lLBph_fJjyL",
        "outputId": "c0ea2394-642f-4f82-ffa9-8c2649ba3ebf"
      },
      "source": [
        "# Funcion Dict\n",
        "datos = [('Enero',650), ('Febrero',420),('Marzo',510)]\n",
        "print(datos)\n",
        "\n",
        "datos_meses = dict(datos)\n",
        "print(datos_meses)"
      ],
      "execution_count": null,
      "outputs": [
        {
          "output_type": "stream",
          "name": "stdout",
          "text": [
            "[('Enero', 650), ('Febrero', 420), ('Marzo', 510)]\n",
            "{'Enero': 650, 'Febrero': 420, 'Marzo': 510}\n"
          ]
        }
      ]
    },
    {
      "cell_type": "markdown",
      "metadata": {
        "id": "TnLIAG2KNmZC"
      },
      "source": [
        "# FUNCION LEN() Y SUM()"
      ]
    },
    {
      "cell_type": "code",
      "metadata": {
        "colab": {
          "base_uri": "https://localhost:8080/"
        },
        "id": "3TYN2tAOKjX9",
        "outputId": "02bc8f92-8e6c-465a-8254-af7b03c8248b"
      },
      "source": [
        "exp2019 = [3274,1325,2254,534,6954,7784,8414,7784,425,165,7784,6555]\n",
        "\n",
        "numero_exp = len(exp2019)\n",
        "total_exp = sum(exp2019)\n",
        "\n",
        "promedio_exp2019 = total_exp/numero_exp\n",
        "\n",
        "print('El promedio de exportaciones realizadas en 2019 es: ', promedio_exp2019)"
      ],
      "execution_count": null,
      "outputs": [
        {
          "output_type": "stream",
          "name": "stdout",
          "text": [
            "El promedio de exportaciones realizadas en 2019 es:  4437.666666666667\n"
          ]
        }
      ]
    },
    {
      "cell_type": "code",
      "metadata": {
        "colab": {
          "base_uri": "https://localhost:8080/"
        },
        "id": "SLtF87_FOSV-",
        "outputId": "8275e59f-973e-436c-b480-8ce3eafc7848"
      },
      "source": [
        "lista_exportaciones = [3274,1325,2254,534,6954,7784,8414,7784,425,165,7784,6555]\n",
        "\n",
        "exportaciones = {'Enero':lista_exportaciones[0],\n",
        "                 'Febrero':lista_exportaciones[1],\n",
        "                 'Marzo':lista_exportaciones[2],\n",
        "                 'Abril':lista_exportaciones[3],\n",
        "                 'Mayo':lista_exportaciones[4],\n",
        "                 'Junio':lista_exportaciones[5],\n",
        "                 'Julio':lista_exportaciones[6],\n",
        "                 'Agosto':lista_exportaciones[7],\n",
        "                 'Septiembre':lista_exportaciones[8],\n",
        "                 'Octubre':lista_exportaciones[9],\n",
        "                 'Noviembre':lista_exportaciones[10],\n",
        "                 }\n",
        "\n",
        "print(exportaciones)"
      ],
      "execution_count": null,
      "outputs": [
        {
          "output_type": "stream",
          "name": "stdout",
          "text": [
            "{'Enero': 3274, 'Febrero': 1325, 'Marzo': 2254, 'Abril': 534, 'Mayo': 6954, 'Junio': 7784, 'Julio': 8414, 'Agosto': 7784, 'Septiembre': 425, 'Octubre': 165, 'Noviembre': 7784}\n"
          ]
        }
      ]
    },
    {
      "cell_type": "code",
      "metadata": {
        "colab": {
          "base_uri": "https://localhost:8080/"
        },
        "id": "gpkt4JQaPvFP",
        "outputId": "88c813db-d20f-4a83-e624-0f3a2ae896ea"
      },
      "source": [
        "# Suma en diccionarios\n",
        "print(exportaciones.values())\n",
        "longitud = len(exportaciones)\n",
        "suma = sum(exportaciones.values())\n",
        "print(suma/longitud)"
      ],
      "execution_count": null,
      "outputs": [
        {
          "output_type": "stream",
          "name": "stdout",
          "text": [
            "dict_values([3274, 1325, 2254, 534, 6954, 7784, 8414, 7784, 425, 165, 7784])\n",
            "4245.181818181818\n"
          ]
        }
      ]
    },
    {
      "cell_type": "markdown",
      "metadata": {
        "id": "G4-jYM01Q1OO"
      },
      "source": [
        "# Desestructuracion"
      ]
    },
    {
      "cell_type": "code",
      "metadata": {
        "colab": {
          "base_uri": "https://localhost:8080/"
        },
        "id": "IzxFnM2GQNJq",
        "outputId": "1fe9a0d9-f670-4fd2-d1ff-061e865517d0"
      },
      "source": [
        "exportaciones = 850,920\n",
        "mexico, canada = exportaciones\n",
        "print(mexico)\n",
        "print(canada)"
      ],
      "execution_count": null,
      "outputs": [
        {
          "output_type": "stream",
          "name": "stdout",
          "text": [
            "850\n",
            "920\n"
          ]
        }
      ]
    },
    {
      "cell_type": "code",
      "metadata": {
        "id": "0PgdjGdgS8aY"
      },
      "source": [
        "china, japon = 1810, 156\n",
        "\n",
        "colombia, chile, brasil = [510,630,450]"
      ],
      "execution_count": null,
      "outputs": []
    },
    {
      "cell_type": "code",
      "metadata": {
        "colab": {
          "base_uri": "https://localhost:8080/"
        },
        "id": "vNBC4HFmTGnP",
        "outputId": "c4cb789a-0dc2-4396-f7eb-f03fd6ca0eac"
      },
      "source": [
        "paises = [('Mexico',850), ('Canada',920), ('China',1940)]\n",
        "\n",
        "for nombre, total in paises:\n",
        "  print(f'{nombre} realizo {total} exportaciones en 2019')"
      ],
      "execution_count": null,
      "outputs": [
        {
          "output_type": "stream",
          "name": "stdout",
          "text": [
            "Mexico realizo 850 exportaciones en 2019\n",
            "Canada realizo 920 exportaciones en 2019\n",
            "China realizo 1940 exportaciones en 2019\n"
          ]
        }
      ]
    },
    {
      "cell_type": "markdown",
      "metadata": {
        "id": "OXqcttaHVezD"
      },
      "source": [
        "# Funcion ZIP"
      ]
    },
    {
      "cell_type": "code",
      "metadata": {
        "colab": {
          "base_uri": "https://localhost:8080/"
        },
        "id": "wK0J0BWLTKHU",
        "outputId": "dec13278-6edc-4d08-c17d-390eb26d0c4f"
      },
      "source": [
        "paises = ('Mexico', 'Canada', 'China', 'Japon')\n",
        "importaciones = (430, 560, 310, 695)\n",
        "exportaciones = (1932, 3540, 4800)\n",
        "\n",
        "agrupacion = zip(paises, importaciones, exportaciones)\n",
        "print(agrupacion)\n",
        "\n",
        "#print(list(agrupacion))\n",
        "#print(tuple(agrupacion))\n",
        "print(set(agrupacion))"
      ],
      "execution_count": null,
      "outputs": [
        {
          "output_type": "stream",
          "name": "stdout",
          "text": [
            "<zip object at 0x7fe49f837190>\n",
            "{('Canada', 560, 3540), ('China', 310, 4800), ('Mexico', 430, 1932)}\n"
          ]
        }
      ]
    },
    {
      "cell_type": "code",
      "metadata": {
        "colab": {
          "base_uri": "https://localhost:8080/"
        },
        "id": "a-tQ0KFdbvj_",
        "outputId": "0a1762c6-115f-48a5-c3fe-93adaeb3ee30"
      },
      "source": [
        "print(dict(zip(paises, exportaciones)))"
      ],
      "execution_count": null,
      "outputs": [
        {
          "output_type": "stream",
          "name": "stdout",
          "text": [
            "{'Mexico': 1932, 'Canada': 3540, 'China': 4800}\n"
          ]
        }
      ]
    },
    {
      "cell_type": "code",
      "metadata": {
        "colab": {
          "base_uri": "https://localhost:8080/"
        },
        "id": "ltkGsKMJcewV",
        "outputId": "79d9de41-a620-41c0-c292-591bd8a690ee"
      },
      "source": [
        "print(list(zip(*paises)))"
      ],
      "execution_count": null,
      "outputs": [
        {
          "output_type": "stream",
          "name": "stdout",
          "text": [
            "[('M', 'C', 'C', 'J'), ('e', 'a', 'h', 'a'), ('x', 'n', 'i', 'p'), ('i', 'a', 'n', 'o'), ('c', 'd', 'a', 'n')]\n"
          ]
        }
      ]
    },
    {
      "cell_type": "code",
      "metadata": {
        "colab": {
          "base_uri": "https://localhost:8080/"
        },
        "id": "HigI8jKiclqg",
        "outputId": "c03f856c-0bf3-432a-b9a6-a2a957f3cbd0"
      },
      "source": [
        "for pais, exportacion in zip(paises, exportaciones):\n",
        "  print(pais, exportacion)"
      ],
      "execution_count": null,
      "outputs": [
        {
          "output_type": "stream",
          "name": "stdout",
          "text": [
            "Mexico 1932\n",
            "Canada 3540\n",
            "China 4800\n"
          ]
        }
      ]
    },
    {
      "cell_type": "markdown",
      "metadata": {
        "id": "SApi-fD6fECZ"
      },
      "source": [
        "# Funciones"
      ]
    },
    {
      "cell_type": "code",
      "metadata": {
        "colab": {
          "base_uri": "https://localhost:8080/"
        },
        "id": "3lN2szF_c1sH",
        "outputId": "55aeeba6-7c9d-42e4-cd76-4dde36767f1a"
      },
      "source": [
        "def agregar():\n",
        "  exp2019 = [3279, 1325, 2254, 7784, 425, 165, 7784, 6555]\n",
        "  exportaciones = int(input('Ingresa las exportaciones realizadas: '))\n",
        "  exp2019.append(exportaciones)\n",
        "  exp2019.sort(reverse=True)\n",
        "  print(exp2019)\n",
        "\n",
        "def multiplicar():\n",
        "  print(6*5)\n",
        "\n",
        "multiplicar()\n",
        "agregar()"
      ],
      "execution_count": null,
      "outputs": [
        {
          "output_type": "stream",
          "name": "stdout",
          "text": [
            "30\n",
            "Ingresa las exportaciones realizadas: 5\n",
            "[7784, 7784, 6555, 3279, 2254, 1325, 425, 165, 5]\n"
          ]
        }
      ]
    },
    {
      "cell_type": "code",
      "metadata": {
        "colab": {
          "base_uri": "https://localhost:8080/"
        },
        "id": "KEk2D5rMh6hb",
        "outputId": "f83aeac7-0194-4345-dfcd-5f7fbecb0074"
      },
      "source": [
        "exp2019 = [3274,1325,2254,7784,425,165,7784,6555]\n",
        "\n",
        "def agregar(lista):\n",
        "  exportaciones = int(input('Ingresa las exportaciones realizadas: '))\n",
        "  lista.append(exportaciones)\n",
        "  lista.sort(reverse = True)\n",
        "  print(lista)\n",
        "\n",
        "agregar(exp2019)\n",
        "agregar([50,126,763,41,193,165])"
      ],
      "execution_count": null,
      "outputs": [
        {
          "output_type": "stream",
          "name": "stdout",
          "text": [
            "Ingresa las exportaciones realizadas: 3\n",
            "[7784, 7784, 6555, 3274, 2254, 1325, 425, 165, 3]\n",
            "Ingresa las exportaciones realizadas: 9\n",
            "[763, 193, 165, 126, 50, 41, 9]\n"
          ]
        }
      ]
    },
    {
      "cell_type": "code",
      "metadata": {
        "colab": {
          "base_uri": "https://localhost:8080/"
        },
        "id": "KUX5VgXIlFts",
        "outputId": "09f3a94b-b1b2-48cb-e555-949bccaf6076"
      },
      "source": [
        "paises = [\n",
        "          {'pais':'Mexico' , 'fecha':2019, 'exp': (4930,2045,4836)} ,       \n",
        "          {'pais': 'Canada', 'fecha':2019, 'exp': (4782,6984,47059,7365)},\n",
        "          {'pais':'Brasil' , 'fecha':2018, 'exp': (85704,74632)},\n",
        "          {'pais': 'China', 'fecha':2019, 'exp': (4730,48526,6934,12820)},\n",
        "          {'pais': 'Japon', 'fecha':2018, 'exp': (19314,4183,4580,4750)},\n",
        "]\n",
        "\n",
        "def promedio_exp(pais_a_calcular=paises[0], fecha_para_calcular=2019):\n",
        "  if pais_a_calcular['fecha'] == fecha_para_calcular:\n",
        "    nombre = pais_a_calcular['pais']\n",
        "    exportaciones = pais_a_calcular['exp']\n",
        "    promedio = sum(exportaciones) / len(exportaciones)\n",
        "    print(f'Exportaciones promedio en {nombre}: {promedio}')\n",
        "\n",
        "for pais in paises:\n",
        "  promedio_exp(fecha_para_calcular = 2019, pais_a_calcular=pais)\n",
        "  #promedio_exp()"
      ],
      "execution_count": null,
      "outputs": [
        {
          "output_type": "stream",
          "name": "stdout",
          "text": [
            "Exportaciones promedio en Mexico: 3937.0\n",
            "Exportaciones promedio en Canada: 16547.5\n",
            "Exportaciones promedio en China: 18252.5\n"
          ]
        }
      ]
    },
    {
      "cell_type": "markdown",
      "metadata": {
        "id": "RNX_zbnAOWYy"
      },
      "source": [
        "# Retornando valores en Python"
      ]
    },
    {
      "cell_type": "code",
      "metadata": {
        "colab": {
          "base_uri": "https://localhost:8080/"
        },
        "id": "znYh8vz2n5uP",
        "outputId": "b2699a61-7b6b-44ab-c900-e0c842f393cc"
      },
      "source": [
        "paises = [\n",
        "          {'pais':'Mexico' , 'fecha':2019, 'exp': (4930,2045,4836)} ,       \n",
        "          {'pais': 'Canada', 'fecha':2019, 'exp': ()},\n",
        "          {'pais':'Brasil' , 'fecha':2018, 'exp': (85704,74632)},\n",
        "          {'pais': 'China', 'fecha':2019, 'exp': (4730,48526,6934,12820)},\n",
        "          {'pais': 'Japon', 'fecha':2018, 'exp': ()},\n",
        "]\n",
        "\n",
        "\n",
        "def promedio_exp(pais):\n",
        "  if len(pais['exp']) == 0:\n",
        "         return 'No hay exportaciones'\n",
        "  else:\n",
        "    return sum(pais['exp']) / len(pais['exp'])\n",
        "\n",
        "def nombre_pais(pais):\n",
        "  nombre = pais['pais']\n",
        "  return nombre\n",
        "\n",
        "def mostrar_info(pais):\n",
        "  nombre = nombre_pais(pais)\n",
        "  promedio = promedio_exp(pais)\n",
        "  print(f'Exportaciones promedio en {nombre}: {promedio}')\n",
        "\n",
        "#for pais in paises:\n",
        "#  print(mostrar_info(pais))\n",
        "  \n",
        "for pais in paises:\n",
        "  print(nombre_pais(pais))"
      ],
      "execution_count": null,
      "outputs": [
        {
          "output_type": "stream",
          "name": "stdout",
          "text": [
            "Mexico\n",
            "Canada\n",
            "Brasil\n",
            "China\n",
            "Japon\n"
          ]
        }
      ]
    },
    {
      "cell_type": "markdown",
      "metadata": {
        "id": "3DGV9WMfV8A3"
      },
      "source": [
        "# Funcion lambda\n"
      ]
    },
    {
      "cell_type": "code",
      "metadata": {
        "colab": {
          "base_uri": "https://localhost:8080/"
        },
        "id": "qB1bBbgzR2tf",
        "outputId": "75530dda-6b22-4574-9614-fb08f5b4ec53"
      },
      "source": [
        "#def multiplicar(a,b):\n",
        "#  return a*b\n",
        "\n",
        "multiplicar = lambda a,b: a*b\n",
        "\n",
        "print(multiplicar(9,9))\n"
      ],
      "execution_count": null,
      "outputs": [
        {
          "output_type": "stream",
          "name": "stdout",
          "text": [
            "81\n"
          ]
        }
      ]
    },
    {
      "cell_type": "code",
      "metadata": {
        "colab": {
          "base_uri": "https://localhost:8080/"
        },
        "id": "xTRkpw1LY2Wg",
        "outputId": "062d47e4-986e-47c2-ba65-076d10384355"
      },
      "source": [
        "paises = [\n",
        "          {'pais':'Mexico' , 'fecha':2019, 'exp': (4930,2045,4836)} ,       \n",
        "          {'pais': 'Canada', 'fecha':2019, 'exp': (4782,6984,47059,7365)},\n",
        "          {'pais':'Brasil' , 'fecha':2018, 'exp': (85704,74632)},\n",
        "          {'pais': 'China', 'fecha':2019, 'exp': (4730,48526,6934,12820)},\n",
        "          {'pais': 'Japon', 'fecha':2018, 'exp': (19314,4183,4580,4750)},\n",
        "]\n",
        "\n",
        "promedio = lambda secuencia: sum(secuencia)/len(secuencia)\n",
        "\n",
        "for pais in paises:\n",
        "  print(promedio(pais['exp']))"
      ],
      "execution_count": null,
      "outputs": [
        {
          "output_type": "stream",
          "name": "stdout",
          "text": [
            "3937.0\n",
            "16547.5\n",
            "80168.0\n",
            "18252.5\n",
            "8206.75\n"
          ]
        }
      ]
    },
    {
      "cell_type": "markdown",
      "metadata": {
        "id": "PaJEecvhm9Aw"
      },
      "source": [
        "# .txt"
      ]
    },
    {
      "cell_type": "code",
      "metadata": {
        "id": "7I9V126cm_X4"
      },
      "source": [
        "import os\n",
        "os.chdir('/content/drive/MyDrive/Colab Notebooks/Santander_Alta_Empleabilidad/bin')"
      ],
      "execution_count": null,
      "outputs": []
    },
    {
      "cell_type": "code",
      "metadata": {
        "colab": {
          "base_uri": "https://localhost:8080/"
        },
        "id": "SaCraJFq9j8K",
        "outputId": "59446bc6-e1d5-42d6-a364-058feb343fd2"
      },
      "source": [
        "archivo = open('informacion.txt', 'r')\n",
        "\n",
        "#contenido = archivo.read()\n",
        "#contenido = archivo.readline()\n",
        "#print(contenido)\n",
        "#print(archivo.readline())\n",
        "\n",
        "#for linea in archivo:\n",
        "#  print(linea)\n",
        "\n",
        "lista_contenido = archivo.readlines()\n",
        "print(lista_contenido)\n",
        "\n",
        "archivo.close()"
      ],
      "execution_count": null,
      "outputs": [
        {
          "output_type": "stream",
          "name": "stdout",
          "text": [
            "['Mexico 2584\\n', 'Canada 894\\n', 'Estados Unidos 9597\\n', 'Argentina 647\\n', 'Colombia 221\\n', 'China 9624\\n', 'Japon 7568\\n', 'Francia 741\\n', 'Chile 625\\n', 'Alemania 9711']\n"
          ]
        }
      ]
    },
    {
      "cell_type": "code",
      "metadata": {
        "id": "G76ydVo6_UOX"
      },
      "source": [
        "escribir_archivo = open('archivo_escritura.txt','w')\n",
        "\n",
        "escribir_archivo.write('Exportaciones realizadas por pais: \\n')\n",
        "\n",
        "'''for elemento in lista_contenido:\n",
        "  escribir_archivo.write(elemento)'''\n",
        "\n",
        "escribir_archivo.writelines(lista_contenido)\n",
        "\n",
        "escribir_archivo.close()"
      ],
      "execution_count": null,
      "outputs": []
    },
    {
      "cell_type": "code",
      "metadata": {
        "colab": {
          "base_uri": "https://localhost:8080/"
        },
        "id": "y2ei8-YtAo0m",
        "outputId": "e465efd5-480c-45ed-e05f-40879f6a8333"
      },
      "source": [
        "escribir_archivo = open('archivo_escritura.txt','a')\n",
        "\n",
        "nuevo_dato = input('Ingresa nueva infromacion: ')\n",
        "escribir_archivo.write('\\n' + nuevo_dato)\n",
        "\n",
        "escribir_archivo.close()"
      ],
      "execution_count": null,
      "outputs": [
        {
          "name": "stdout",
          "output_type": "stream",
          "text": [
            "Ingresa nueva infromacion: Brazil 854\n"
          ]
        }
      ]
    },
    {
      "cell_type": "markdown",
      "metadata": {
        "id": "I7APcugIGitW"
      },
      "source": [
        "# .csv"
      ]
    },
    {
      "cell_type": "code",
      "metadata": {
        "id": "fDRBkrXCGp-z"
      },
      "source": [
        "import csv "
      ],
      "execution_count": null,
      "outputs": []
    },
    {
      "cell_type": "code",
      "metadata": {
        "colab": {
          "base_uri": "https://localhost:8080/"
        },
        "id": "uPaX9kGPG5mj",
        "outputId": "8b51491b-1d2f-4c4b-c8b6-e8bc6452076b"
      },
      "source": [
        "#archivo_csv = open('exportaciones2020.csv','r')\n",
        "#archivo_csv.close()\n",
        "\n",
        "with open('exportaciones2020.csv', 'r') as archivo_csv:\n",
        "  #lector = csv.reader(archivo_csv, delimiter=',')\n",
        "  lector = csv.DictReader(archivo_csv)\n",
        "\n",
        "  for linea in lector:\n",
        "    print(linea)"
      ],
      "execution_count": null,
      "outputs": [
        {
          "output_type": "stream",
          "name": "stdout",
          "text": [
            "OrderedDict([('origen', 'mexico'), ('destino', 'china'), ('total', '18593')])\n",
            "OrderedDict([('origen', 'mexico'), ('destino', 'japon'), ('total', '2353')])\n",
            "OrderedDict([('origen', 'japon'), ('destino', 'mexico'), ('total', '38473')])\n",
            "OrderedDict([('origen', 'brasil'), ('destino', 'estados unidos'), ('total', '472832')])\n",
            "OrderedDict([('origen', 'canada'), ('destino', 'argentina'), ('total', '324')])\n",
            "OrderedDict([('origen', 'canada'), ('destino', 'mexico'), ('total', '29380')])\n",
            "OrderedDict([('origen', 'japon'), ('destino', 'brasil'), ('total', '3726')])\n",
            "OrderedDict([('origen', 'china'), ('destino', 'francia'), ('total', '12344')])\n",
            "OrderedDict([('origen', 'mexico'), ('destino', 'estados unidos'), ('total', '24723')])\n"
          ]
        }
      ]
    },
    {
      "cell_type": "code",
      "metadata": {
        "id": "vSu0wKOjI3q5"
      },
      "source": [
        "info = [\n",
        "        ('Mexico','cars'),\n",
        "        ('Canada', 'petroleum'),\n",
        "        ('United States', 'planes'),\n",
        "        ('China', 'electronic'),\n",
        "        ('South Korea', 'computers'),\n",
        "        ('Germany', 'cars')\n",
        "       ]\n",
        "\n",
        "with open('info_exp.csv', 'w') as archivo:\n",
        "  escritor = csv.writer(archivo)\n",
        "  escritor.writerows(info)"
      ],
      "execution_count": null,
      "outputs": []
    },
    {
      "cell_type": "code",
      "metadata": {
        "id": "UAMywmJWKu0c"
      },
      "source": [
        "paises = [\n",
        "          {'pais':'Mexico' , 'fecha':2019, 'exp': 2045} ,       \n",
        "          {'pais': 'Canada', 'fecha':2019, 'exp': 6984},\n",
        "          {'pais':'Brasil' , 'fecha':2018, 'exp': 74632},\n",
        "          {'pais': 'China', 'fecha':2019, 'exp': 48526},\n",
        "          {'pais': 'Japon', 'fecha':2018, 'exp': 4183},\n",
        "]\n",
        "\n",
        "with open('dict_exp.csv','w') as archivo_dict:\n",
        "  campos = ['fecha','pais','exp']\n",
        "  escritor = csv.DictWriter(archivo_dict, fieldnames=campos)\n",
        "  escritor.writeheader()\n",
        "  escritor.writerows(paises)"
      ],
      "execution_count": null,
      "outputs": []
    },
    {
      "cell_type": "markdown",
      "metadata": {
        "id": "7tPVJEG0Q3Kd"
      },
      "source": [
        "# Aplicacion - Conocimientos Avanzados"
      ]
    },
    {
      "cell_type": "code",
      "metadata": {
        "colab": {
          "base_uri": "https://localhost:8080/"
        },
        "id": "dgDoSsR_MqOO",
        "outputId": "2cb96cdf-23e7-4f41-ddb4-edaaeae45280"
      },
      "source": [
        "import csv\n",
        "totales = []\n",
        "with open('exportaciones2020.csv', 'r') as archivo_csv:\n",
        "  lector = csv.reader(archivo_csv)\n",
        "\n",
        "  for linea in lector:\n",
        "    if linea[2] == 'total':\n",
        "      continue\n",
        "    totales.append(int(linea[2]))\n",
        "\n",
        "print('El total de las exportaciones es: ', sum(totales))\n"
      ],
      "execution_count": null,
      "outputs": [
        {
          "output_type": "stream",
          "name": "stdout",
          "text": [
            "El total de las exportaciones es:  602748\n"
          ]
        }
      ]
    },
    {
      "cell_type": "code",
      "metadata": {
        "colab": {
          "base_uri": "https://localhost:8080/"
        },
        "id": "XgPLA-8YRwLG",
        "outputId": "30040467-420d-4d32-cddf-ac06f2350a70"
      },
      "source": [
        "exp_mexico = []\n",
        "\n",
        "with open('exportaciones2020.csv', 'r') as archivo_csv:\n",
        "  lector = csv.DictReader(archivo_csv)\n",
        "\n",
        "  for linea in lector:\n",
        "    if linea['origen'] == 'mexico':\n",
        "      exp_mexico.append(int(linea['total']))\n",
        "\n",
        "print(exp_mexico)\n",
        "print('Exportaciones totales de Mexico: ', sum(exp_mexico))"
      ],
      "execution_count": null,
      "outputs": [
        {
          "output_type": "stream",
          "name": "stdout",
          "text": [
            "[18593, 2353, 24723]\n",
            "Exportaciones totales de Mexico:  45669\n"
          ]
        }
      ]
    },
    {
      "cell_type": "code",
      "metadata": {
        "id": "kCHasbq1TmDS"
      },
      "source": [],
      "execution_count": null,
      "outputs": []
    }
  ]
}