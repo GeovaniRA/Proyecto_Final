{
  "nbformat": 4,
  "nbformat_minor": 0,
  "metadata": {
    "colab": {
      "provenance": [],
      "include_colab_link": true
    },
    "kernelspec": {
      "name": "python3",
      "display_name": "Python 3"
    },
    "language_info": {
      "name": "python"
    }
  },
  "cells": [
    {
      "cell_type": "markdown",
      "metadata": {
        "id": "view-in-github",
        "colab_type": "text"
      },
      "source": [
        "<a href=\"https://colab.research.google.com/github/GeovaniRA/Proyecto_Final/blob/main/Sinergy_Logistics.ipynb\" target=\"_parent\"><img src=\"https://colab.research.google.com/assets/colab-badge.svg\" alt=\"Open In Colab\"/></a>"
      ]
    },
    {
      "cell_type": "code",
      "metadata": {
        "colab": {
          "base_uri": "https://localhost:8080/",
          "height": 74
        },
        "id": "gdeycMUwJlBn",
        "outputId": "a835e558-a5f1-4b9b-936b-c3f87c5c3bc3"
      },
      "source": [
        "%%html\n",
        "<h1 style=\"color:#86A8E7\"> Caso: Synergy Logistics </h1>"
      ],
      "execution_count": null,
      "outputs": [
        {
          "output_type": "display_data",
          "data": {
            "text/html": [
              "<h1 style=\"color:#86A8E7\"> Caso: Synergy Logistics </h1>"
            ],
            "text/plain": [
              "<IPython.core.display.HTML object>"
            ]
          },
          "metadata": {}
        }
      ]
    },
    {
      "cell_type": "markdown",
      "metadata": {
        "id": "Pd_brezPJgQL"
      },
      "source": [
        "## Carga de base de datos"
      ]
    },
    {
      "cell_type": "code",
      "metadata": {
        "id": "tmZG82g_DWOx"
      },
      "source": [
        "import os\n",
        "os.chdir('/content/drive/MyDrive/Colab Notebooks/Santander_Alta_Empleabilidad/bin')"
      ],
      "execution_count": null,
      "outputs": []
    },
    {
      "cell_type": "code",
      "metadata": {
        "colab": {
          "base_uri": "https://localhost:8080/",
          "height": 35
        },
        "id": "pedWoBvNHQb-",
        "outputId": "ddfd60ff-0c15-4ee5-e82d-911717f4a0ed"
      },
      "source": [
        "os.getcwd()"
      ],
      "execution_count": null,
      "outputs": [
        {
          "output_type": "execute_result",
          "data": {
            "application/vnd.google.colaboratory.intrinsic+json": {
              "type": "string"
            },
            "text/plain": [
              "'/content/drive/MyDrive/Colab Notebooks/Santander_Alta_Empleabilidad/bin'"
            ]
          },
          "metadata": {},
          "execution_count": 4
        }
      ]
    },
    {
      "cell_type": "code",
      "metadata": {
        "id": "q8OEJGxmHTSp"
      },
      "source": [
        "import pandas as pd\n",
        "import numpy as np\n",
        "import matplotlib.pyplot as plt\n",
        "%matplotlib inline\n",
        "import seaborn as sns"
      ],
      "execution_count": null,
      "outputs": []
    },
    {
      "cell_type": "code",
      "metadata": {
        "colab": {
          "base_uri": "https://localhost:8080/",
          "height": 204
        },
        "id": "FGsqF1htHjPc",
        "outputId": "40ab6745-f0ef-44b9-c323-3aa573f432b4"
      },
      "source": [
        "datos = pd.read_csv('synergy_logistics_database.csv', sep=',')\n",
        "datos.head()"
      ],
      "execution_count": null,
      "outputs": [
        {
          "output_type": "execute_result",
          "data": {
            "text/html": [
              "<div>\n",
              "<style scoped>\n",
              "    .dataframe tbody tr th:only-of-type {\n",
              "        vertical-align: middle;\n",
              "    }\n",
              "\n",
              "    .dataframe tbody tr th {\n",
              "        vertical-align: top;\n",
              "    }\n",
              "\n",
              "    .dataframe thead th {\n",
              "        text-align: right;\n",
              "    }\n",
              "</style>\n",
              "<table border=\"1\" class=\"dataframe\">\n",
              "  <thead>\n",
              "    <tr style=\"text-align: right;\">\n",
              "      <th></th>\n",
              "      <th>register_id</th>\n",
              "      <th>direction</th>\n",
              "      <th>origin</th>\n",
              "      <th>destination</th>\n",
              "      <th>year</th>\n",
              "      <th>date</th>\n",
              "      <th>product</th>\n",
              "      <th>transport_mode</th>\n",
              "      <th>company_name</th>\n",
              "      <th>total_value</th>\n",
              "    </tr>\n",
              "  </thead>\n",
              "  <tbody>\n",
              "    <tr>\n",
              "      <th>0</th>\n",
              "      <td>1</td>\n",
              "      <td>Exports</td>\n",
              "      <td>Japan</td>\n",
              "      <td>China</td>\n",
              "      <td>2015</td>\n",
              "      <td>31/01/15</td>\n",
              "      <td>Cars</td>\n",
              "      <td>Sea</td>\n",
              "      <td>Honda</td>\n",
              "      <td>33000000</td>\n",
              "    </tr>\n",
              "    <tr>\n",
              "      <th>1</th>\n",
              "      <td>2</td>\n",
              "      <td>Exports</td>\n",
              "      <td>Japan</td>\n",
              "      <td>China</td>\n",
              "      <td>2015</td>\n",
              "      <td>01/02/15</td>\n",
              "      <td>Cars</td>\n",
              "      <td>Sea</td>\n",
              "      <td>Honda</td>\n",
              "      <td>16000000</td>\n",
              "    </tr>\n",
              "    <tr>\n",
              "      <th>2</th>\n",
              "      <td>3</td>\n",
              "      <td>Exports</td>\n",
              "      <td>Japan</td>\n",
              "      <td>China</td>\n",
              "      <td>2015</td>\n",
              "      <td>02/02/15</td>\n",
              "      <td>Cars</td>\n",
              "      <td>Sea</td>\n",
              "      <td>Honda</td>\n",
              "      <td>29000000</td>\n",
              "    </tr>\n",
              "    <tr>\n",
              "      <th>3</th>\n",
              "      <td>4</td>\n",
              "      <td>Exports</td>\n",
              "      <td>Japan</td>\n",
              "      <td>China</td>\n",
              "      <td>2015</td>\n",
              "      <td>03/02/15</td>\n",
              "      <td>Cars</td>\n",
              "      <td>Sea</td>\n",
              "      <td>Honda</td>\n",
              "      <td>14000000</td>\n",
              "    </tr>\n",
              "    <tr>\n",
              "      <th>4</th>\n",
              "      <td>5</td>\n",
              "      <td>Exports</td>\n",
              "      <td>Japan</td>\n",
              "      <td>China</td>\n",
              "      <td>2015</td>\n",
              "      <td>04/02/15</td>\n",
              "      <td>Cars</td>\n",
              "      <td>Sea</td>\n",
              "      <td>Honda</td>\n",
              "      <td>17000000</td>\n",
              "    </tr>\n",
              "  </tbody>\n",
              "</table>\n",
              "</div>"
            ],
            "text/plain": [
              "   register_id direction origin  ... transport_mode  company_name total_value\n",
              "0            1   Exports  Japan  ...            Sea         Honda    33000000\n",
              "1            2   Exports  Japan  ...            Sea         Honda    16000000\n",
              "2            3   Exports  Japan  ...            Sea         Honda    29000000\n",
              "3            4   Exports  Japan  ...            Sea         Honda    14000000\n",
              "4            5   Exports  Japan  ...            Sea         Honda    17000000\n",
              "\n",
              "[5 rows x 10 columns]"
            ]
          },
          "metadata": {},
          "execution_count": 6
        }
      ]
    },
    {
      "cell_type": "code",
      "metadata": {
        "colab": {
          "base_uri": "https://localhost:8080/",
          "height": 204
        },
        "id": "Bf9jIzg-IGu5",
        "outputId": "cd130d1d-32f2-4fd0-9e59-7cf7dc169356"
      },
      "source": [
        "datos.tail()"
      ],
      "execution_count": null,
      "outputs": [
        {
          "output_type": "execute_result",
          "data": {
            "text/html": [
              "<div>\n",
              "<style scoped>\n",
              "    .dataframe tbody tr th:only-of-type {\n",
              "        vertical-align: middle;\n",
              "    }\n",
              "\n",
              "    .dataframe tbody tr th {\n",
              "        vertical-align: top;\n",
              "    }\n",
              "\n",
              "    .dataframe thead th {\n",
              "        text-align: right;\n",
              "    }\n",
              "</style>\n",
              "<table border=\"1\" class=\"dataframe\">\n",
              "  <thead>\n",
              "    <tr style=\"text-align: right;\">\n",
              "      <th></th>\n",
              "      <th>register_id</th>\n",
              "      <th>direction</th>\n",
              "      <th>origin</th>\n",
              "      <th>destination</th>\n",
              "      <th>year</th>\n",
              "      <th>date</th>\n",
              "      <th>product</th>\n",
              "      <th>transport_mode</th>\n",
              "      <th>company_name</th>\n",
              "      <th>total_value</th>\n",
              "    </tr>\n",
              "  </thead>\n",
              "  <tbody>\n",
              "    <tr>\n",
              "      <th>19051</th>\n",
              "      <td>19052</td>\n",
              "      <td>Imports</td>\n",
              "      <td>Japan</td>\n",
              "      <td>Singapore</td>\n",
              "      <td>2020</td>\n",
              "      <td>27/06/20</td>\n",
              "      <td>Gas turbines</td>\n",
              "      <td>Sea</td>\n",
              "      <td>Union Energy Co</td>\n",
              "      <td>1000000</td>\n",
              "    </tr>\n",
              "    <tr>\n",
              "      <th>19052</th>\n",
              "      <td>19053</td>\n",
              "      <td>Imports</td>\n",
              "      <td>Malaysia</td>\n",
              "      <td>Singapore</td>\n",
              "      <td>2020</td>\n",
              "      <td>28/06/20</td>\n",
              "      <td>Gas turbines</td>\n",
              "      <td>Sea</td>\n",
              "      <td>Union Energy Co</td>\n",
              "      <td>2000000</td>\n",
              "    </tr>\n",
              "    <tr>\n",
              "      <th>19053</th>\n",
              "      <td>19054</td>\n",
              "      <td>Imports</td>\n",
              "      <td>Malaysia</td>\n",
              "      <td>Singapore</td>\n",
              "      <td>2020</td>\n",
              "      <td>29/06/20</td>\n",
              "      <td>Gas turbines</td>\n",
              "      <td>Sea</td>\n",
              "      <td>Union Energy Co</td>\n",
              "      <td>33000000</td>\n",
              "    </tr>\n",
              "    <tr>\n",
              "      <th>19054</th>\n",
              "      <td>19055</td>\n",
              "      <td>Imports</td>\n",
              "      <td>Malaysia</td>\n",
              "      <td>Singapore</td>\n",
              "      <td>2020</td>\n",
              "      <td>30/06/20</td>\n",
              "      <td>Gas turbines</td>\n",
              "      <td>Sea</td>\n",
              "      <td>Union Energy Co</td>\n",
              "      <td>13000000</td>\n",
              "    </tr>\n",
              "    <tr>\n",
              "      <th>19055</th>\n",
              "      <td>19056</td>\n",
              "      <td>Imports</td>\n",
              "      <td>Malaysia</td>\n",
              "      <td>Singapore</td>\n",
              "      <td>2020</td>\n",
              "      <td>01/07/20</td>\n",
              "      <td>Gas turbines</td>\n",
              "      <td>Sea</td>\n",
              "      <td>Union Energy Co</td>\n",
              "      <td>30000000</td>\n",
              "    </tr>\n",
              "  </tbody>\n",
              "</table>\n",
              "</div>"
            ],
            "text/plain": [
              "       register_id direction  ...     company_name total_value\n",
              "19051        19052   Imports  ...  Union Energy Co     1000000\n",
              "19052        19053   Imports  ...  Union Energy Co     2000000\n",
              "19053        19054   Imports  ...  Union Energy Co    33000000\n",
              "19054        19055   Imports  ...  Union Energy Co    13000000\n",
              "19055        19056   Imports  ...  Union Energy Co    30000000\n",
              "\n",
              "[5 rows x 10 columns]"
            ]
          },
          "metadata": {},
          "execution_count": 7
        }
      ]
    },
    {
      "cell_type": "code",
      "metadata": {
        "colab": {
          "base_uri": "https://localhost:8080/"
        },
        "id": "XWuyASzmIR72",
        "outputId": "a790db2f-ea9e-4bbb-dab9-ceb50ae22f4b"
      },
      "source": [
        "#Al parecer no hay valores faltantes en el dataset\n",
        "datos.info()"
      ],
      "execution_count": null,
      "outputs": [
        {
          "output_type": "stream",
          "name": "stdout",
          "text": [
            "<class 'pandas.core.frame.DataFrame'>\n",
            "RangeIndex: 19056 entries, 0 to 19055\n",
            "Data columns (total 10 columns):\n",
            " #   Column          Non-Null Count  Dtype \n",
            "---  ------          --------------  ----- \n",
            " 0   register_id     19056 non-null  int64 \n",
            " 1   direction       19056 non-null  object\n",
            " 2   origin          19056 non-null  object\n",
            " 3   destination     19056 non-null  object\n",
            " 4   year            19056 non-null  int64 \n",
            " 5   date            19056 non-null  object\n",
            " 6   product         19056 non-null  object\n",
            " 7   transport_mode  19056 non-null  object\n",
            " 8   company_name    19056 non-null  object\n",
            " 9   total_value     19056 non-null  int64 \n",
            "dtypes: int64(3), object(7)\n",
            "memory usage: 1.5+ MB\n"
          ]
        }
      ]
    },
    {
      "cell_type": "markdown",
      "metadata": {
        "id": "nhmzULyyavH4"
      },
      "source": [
        "# Rutas mas demandadas"
      ]
    },
    {
      "cell_type": "code",
      "metadata": {
        "colab": {
          "base_uri": "https://localhost:8080/",
          "height": 435
        },
        "id": "G48N4BRCkQb8",
        "outputId": "f8d0a75d-0fb5-4ff6-a6eb-438c7a8a6660"
      },
      "source": [
        "#Agregamos una nueva columna que contendra la ruta\n",
        "datos['ruta'] = datos.origin + '-' + datos.destination\n",
        "rutas = pd.DataFrame(datos.ruta.value_counts().sort_values(ascending = False)[:10])\n",
        "print(rutas)\n",
        "#Estas serian las 10 rutas mas demandadas\n",
        "plt.pie(rutas.ruta, labels=rutas.index, startangle=45, autopct='%1.2f%%')\n",
        "plt.show()"
      ],
      "execution_count": null,
      "outputs": [
        {
          "output_type": "stream",
          "name": "stdout",
          "text": [
            "                     ruta\n",
            "South Korea-Vietnam   497\n",
            "Netherlands-Belgium   437\n",
            "USA-Netherlands       436\n",
            "Japan-Mexico          385\n",
            "China-Mexico          351\n",
            "China-Japan           343\n",
            "Germany-China         328\n",
            "Japan-Brazil          306\n",
            "Germany-France        299\n",
            "South Korea-Japan     294\n"
          ]
        },
        {
          "output_type": "display_data",
          "data": {
            "image/png": "[encoded data removed]",
            "text/plain": [
              "<Figure size 432x288 with 1 Axes>"
            ]
          },
          "metadata": {}
        }
      ]
    },
    {
      "cell_type": "markdown",
      "metadata": {
        "id": "XtDYp1kta2j4"
      },
      "source": [
        "# Uso de medios de transporte"
      ]
    },
    {
      "cell_type": "code",
      "metadata": {
        "colab": {
          "base_uri": "https://localhost:8080/"
        },
        "id": "1__fCGOcIdhX",
        "outputId": "bc016f9d-aa5c-4bbf-e711-0353ed58a772"
      },
      "source": [
        "# Formacion de agrupaciones\n",
        "filtro = datos.groupby(['direction', 'transport_mode'])\n",
        "print(filtro['total_value'].sum())\n",
        "print(filtro['total_value'].count())"
      ],
      "execution_count": null,
      "outputs": [
        {
          "output_type": "stream",
          "name": "stdout",
          "text": [
            "direction  transport_mode\n",
            "Exports    Air               32785147000\n",
            "           Rail              34505043000\n",
            "           Road              27280486000\n",
            "           Sea               65592622000\n",
            "Imports    Air                5477000000\n",
            "           Rail               9123000000\n",
            "           Road               5990000000\n",
            "           Sea               34938000000\n",
            "Name: total_value, dtype: int64\n",
            "direction  transport_mode\n",
            "Exports    Air               2045\n",
            "           Rail              2780\n",
            "           Road              2149\n",
            "           Sea               8434\n",
            "Imports    Air                344\n",
            "           Rail               601\n",
            "           Road               449\n",
            "           Sea               2254\n",
            "Name: total_value, dtype: int64\n"
          ]
        }
      ]
    },
    {
      "cell_type": "code",
      "metadata": {
        "id": "1wz38MTGGULr",
        "colab": {
          "base_uri": "https://localhost:8080/",
          "height": 942
        },
        "outputId": "b598c3b0-0385-4f09-cca6-d5e7ba735f45"
      },
      "source": [
        "g = sns.FacetGrid(data=datos, col= 'transport_mode', row = 'direction',\n",
        "                  aspect=1, height=5)\n",
        "g.map(sns.distplot, 'total_value')\n",
        "plt.savefig('IMAGEN_1')\n",
        "plt.show()\n",
        "\n",
        "# Dado los graficos y datos arrojado de las agrupaciones obtenemos lo siguiente\n",
        "'''\n",
        "- IMPORTACIONES:\n",
        "  El medio de transporte menos importante por valor es \"AIR\"\n",
        "\n",
        "- EXPORTACIONES:\n",
        "  El medio de transporte menos importante por valor es \"ROAD\"\n",
        "'''\n",
        "# Que serian los modos de transporte a reducir "
      ],
      "execution_count": null,
      "outputs": [
        {
          "output_type": "stream",
          "name": "stderr",
          "text": [
            "/usr/local/lib/python3.7/dist-packages/seaborn/distributions.py:2619: FutureWarning: `distplot` is a deprecated function and will be removed in a future version. Please adapt your code to use either `displot` (a figure-level function with similar flexibility) or `histplot` (an axes-level function for histograms).\n",
            "  warnings.warn(msg, FutureWarning)\n",
            "/usr/local/lib/python3.7/dist-packages/seaborn/distributions.py:2619: FutureWarning: `distplot` is a deprecated function and will be removed in a future version. Please adapt your code to use either `displot` (a figure-level function with similar flexibility) or `histplot` (an axes-level function for histograms).\n",
            "  warnings.warn(msg, FutureWarning)\n",
            "/usr/local/lib/python3.7/dist-packages/seaborn/distributions.py:2619: FutureWarning: `distplot` is a deprecated function and will be removed in a future version. Please adapt your code to use either `displot` (a figure-level function with similar flexibility) or `histplot` (an axes-level function for histograms).\n",
            "  warnings.warn(msg, FutureWarning)\n",
            "/usr/local/lib/python3.7/dist-packages/seaborn/distributions.py:2619: FutureWarning: `distplot` is a deprecated function and will be removed in a future version. Please adapt your code to use either `displot` (a figure-level function with similar flexibility) or `histplot` (an axes-level function for histograms).\n",
            "  warnings.warn(msg, FutureWarning)\n",
            "/usr/local/lib/python3.7/dist-packages/seaborn/distributions.py:2619: FutureWarning: `distplot` is a deprecated function and will be removed in a future version. Please adapt your code to use either `displot` (a figure-level function with similar flexibility) or `histplot` (an axes-level function for histograms).\n",
            "  warnings.warn(msg, FutureWarning)\n",
            "/usr/local/lib/python3.7/dist-packages/seaborn/distributions.py:2619: FutureWarning: `distplot` is a deprecated function and will be removed in a future version. Please adapt your code to use either `displot` (a figure-level function with similar flexibility) or `histplot` (an axes-level function for histograms).\n",
            "  warnings.warn(msg, FutureWarning)\n",
            "/usr/local/lib/python3.7/dist-packages/seaborn/distributions.py:2619: FutureWarning: `distplot` is a deprecated function and will be removed in a future version. Please adapt your code to use either `displot` (a figure-level function with similar flexibility) or `histplot` (an axes-level function for histograms).\n",
            "  warnings.warn(msg, FutureWarning)\n",
            "/usr/local/lib/python3.7/dist-packages/seaborn/distributions.py:2619: FutureWarning: `distplot` is a deprecated function and will be removed in a future version. Please adapt your code to use either `displot` (a figure-level function with similar flexibility) or `histplot` (an axes-level function for histograms).\n",
            "  warnings.warn(msg, FutureWarning)\n"
          ]
        },
        {
          "output_type": "display_data",
          "data": {
            "image/png": "[encoded data removed]",
            "text/plain": [
              "<Figure size 1440x720 with 8 Axes>"
            ]
          },
          "metadata": {
            "needs_background": "light"
          }
        },
        {
          "output_type": "execute_result",
          "data": {
            "application/vnd.google.colaboratory.intrinsic+json": {
              "type": "string"
            },
            "text/plain": [
              "'\\n- IMPORTACIONES:\\n  El medio de transporte menos importante por valor es \"AIR\"\\n\\n- EXPORTACIONES:\\n  El medio de transporte menos importante por valor es \"ROAD\"\\n'"
            ]
          },
          "metadata": {},
          "execution_count": 82
        }
      ]
    },
    {
      "cell_type": "markdown",
      "metadata": {
        "id": "zngY7yBwbB5F"
      },
      "source": [
        "# Porcentaje - valor generado por pais"
      ]
    },
    {
      "cell_type": "code",
      "metadata": {
        "colab": {
          "base_uri": "https://localhost:8080/"
        },
        "id": "gYbMSGTbj9Zk",
        "outputId": "284871fb-930e-4d39-cbe5-0bb7773605cd"
      },
      "source": [
        "#Observemos que paises a travez de la rutas concentran el 80% del valor\n",
        "datos['ruta'] = datos.origin + '-' + datos.destination\n",
        "auxiliar = datos.groupby('ruta')\n",
        "auxiliar_2 = pd.DataFrame(auxiliar.total_value.sum())\n",
        "auxiliar_2['ponderaciones'] = (auxiliar_2.total_value / auxiliar_2.total_value.sum())*100\n",
        "new_rutas = auxiliar_2.sort_values('ponderaciones', ascending=False)[:55].ponderaciones.sum()\n",
        "print(f'Las primeras 55 rutas mas concurridas concentran el: {new_rutas}% del valor.')"
      ],
      "execution_count": null,
      "outputs": [
        {
          "output_type": "stream",
          "name": "stdout",
          "text": [
            "Las primeras 55 rutas mas concurridas concentran el: 80.07371581583232% del valor.\n"
          ]
        }
      ]
    },
    {
      "cell_type": "code",
      "metadata": {
        "colab": {
          "base_uri": "https://localhost:8080/"
        },
        "id": "x5g2BYjJWtWY",
        "outputId": "021f54e8-58cf-4604-e44a-efb4f7d186b8"
      },
      "source": [
        "#Top 10 ...\n",
        "a_rutas = auxiliar_2.sort_values('ponderaciones', ascending=False)[:55].ponderaciones\n",
        "print(a_rutas[:10])"
      ],
      "execution_count": null,
      "outputs": [
        {
          "output_type": "stream",
          "name": "stdout",
          "text": [
            "ruta\n",
            "China-Mexico             5.792538\n",
            "Canada-Mexico            3.917636\n",
            "South Korea-Vietnam      3.188356\n",
            "China-Japan              2.731218\n",
            "Japan-Mexico             2.702473\n",
            "France-Belgium           2.567590\n",
            "France-United Kingdom    2.516096\n",
            "China-South Korea        2.220766\n",
            "South Korea-Japan        2.198049\n",
            "USA-Mexico               2.183676\n",
            "Name: ponderaciones, dtype: float64\n"
          ]
        }
      ]
    },
    {
      "cell_type": "code",
      "metadata": {
        "colab": {
          "base_uri": "https://localhost:8080/"
        },
        "id": "zLEJwaSDYgxs",
        "outputId": "3059b3bb-adaa-4a0c-c5c4-298c12b63b4e"
      },
      "source": [
        "# Separemos los paises\n",
        "conjunto_1 = []\n",
        "conjunto_2 = []\n",
        "for i in a_rutas.index:\n",
        "  aux = i.split(sep='-')\n",
        "  conjunto_1.append(aux[0])\n",
        "  conjunto_2.append(aux[1])\n",
        "\n",
        "paises = set(conjunto_1 + conjunto_2)\n",
        "\n",
        "print(f'*** Los paises que concentran el {new_rutas} del valor son: ***')\n",
        "for i in paises:\n",
        "  print(i)"
      ],
      "execution_count": null,
      "outputs": [
        {
          "output_type": "stream",
          "name": "stdout",
          "text": [
            "*** Los paises que concentran el 80.07371581583232 del valor son: ***\n",
            "Belorussia\n",
            "Belgium\n",
            "Germany\n",
            "United Arab Emirates\n",
            "France\n",
            "Singapore\n",
            "China\n",
            "United Kingdom\n",
            "Canada\n",
            "Russia\n",
            "Vietnam\n",
            "Argentina\n",
            "Mexico\n",
            "Brazil\n",
            "Spain\n",
            "Japan\n",
            "South Korea\n",
            "USA\n",
            "Turkey\n",
            "India\n",
            "Malaysia\n",
            "Italy\n",
            "Thailand\n",
            "Netherlands\n"
          ]
        }
      ]
    }
  ]
}